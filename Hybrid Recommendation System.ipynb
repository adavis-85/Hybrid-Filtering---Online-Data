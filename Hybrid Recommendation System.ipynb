{
 "cells": [
  {
   "cell_type": "code",
   "execution_count": 1,
   "id": "300284a2",
   "metadata": {},
   "outputs": [],
   "source": [
    "import pandas as pd\n",
    "import numpy as np\n",
    "ratings_data=pd.read_csv('C:#########amazon.csv')"
   ]
  },
  {
   "cell_type": "code",
   "execution_count": 2,
   "id": "43fd7daf",
   "metadata": {},
   "outputs": [],
   "source": [
    "ratings_data=ratings_data[ratings_data['rating'] != \"|\"]"
   ]
  },
  {
   "cell_type": "code",
   "execution_count": 3,
   "id": "326c3157",
   "metadata": {},
   "outputs": [],
   "source": [
    "##creating the new dataset here\n",
    "prod_id=[]\n",
    "prod_desc=[]\n",
    "user=[]\n",
    "prod_name=[]\n",
    "prod_cat=[]\n",
    "prod_rating=[]\n",
    "\n",
    "for i in range(0,len(ratings_data)):\n",
    "    ##print(i)\n",
    "    diff_id=ratings_data['user_id'][i].split(',')\n",
    "    \n",
    "    user.append(diff_id)\n",
    "    prod_id.append([ratings_data['product_id'][i] for x in range(0,len(diff_id))])\n",
    "    prod_desc.append([ratings_data['about_product'][i] for x in range(0,len(diff_id))])\n",
    "    prod_name.append([ratings_data['product_name'][i] for x in range(0,len(diff_id))])\n",
    "    prod_cat.append([ratings_data['category'][i] for x in range(0,len(diff_id))])\n",
    "    prod_rating.append([ratings_data['rating'][i] for x in range(0,len(diff_id))])\n",
    "    \n",
    "import itertools\n",
    "new_frame=pd.DataFrame()\n",
    "\n",
    "new_frame['user_id']=list(itertools.chain.from_iterable(user))\n",
    "new_frame['product_id']=list(itertools.chain.from_iterable(prod_id))\n",
    "new_frame['about_product']=list(itertools.chain.from_iterable(prod_desc))\n",
    "new_frame['product_name']=list(itertools.chain.from_iterable(prod_name))\n",
    "new_frame['category']=list(itertools.chain.from_iterable(prod_cat))\n",
    "new_frame['rating']=list(itertools.chain.from_iterable(prod_rating))\n",
    "\n",
    "ratings_data=new_frame"
   ]
  },
  {
   "cell_type": "code",
   "execution_count": 4,
   "id": "60ce1b7a",
   "metadata": {},
   "outputs": [
    {
     "data": {
      "image/png": "[encoded data removed]",
      "text/plain": [
       "<Figure size 360x360 with 1 Axes>"
      ]
     },
     "metadata": {
      "needs_background": "light"
     },
     "output_type": "display_data"
    }
   ],
   "source": [
    "import matplotlib.pyplot as plt\n",
    "import seaborn as sns\n",
    "\n",
    "sns.displot(ratings_data['rating'])\n",
    "plt.title('distribution of ratings')\n",
    "plt.show()"
   ]
  },
  {
   "cell_type": "code",
   "execution_count": 5,
   "id": "15f8641c",
   "metadata": {
    "scrolled": true
   },
   "outputs": [
    {
     "name": "stdout",
     "output_type": "stream",
     "text": [
      "Evaluating RMSE, MAE of algorithm SVD on 5 split(s).\n",
      "\n",
      "                  Fold 1  Fold 2  Fold 3  Fold 4  Fold 5  Mean    Std     \n",
      "RMSE (testset)    0.1743  0.1767  0.1985  0.1807  0.1839  0.1828  0.0085  \n",
      "MAE (testset)     0.1300  0.1300  0.1353  0.1325  0.1355  0.1327  0.0024  \n",
      "Fit time          0.15    0.17    0.15    0.12    0.12    0.14    0.02    \n",
      "Test time         0.01    0.01    0.01    0.01    0.01    0.01    0.00    \n"
     ]
    },
    {
     "data": {
      "text/plain": [
       "{'test_rmse': array([0.17429066, 0.17671356, 0.19846004, 0.18065715, 0.18388567]),\n",
       " 'test_mae': array([0.13001897, 0.13004709, 0.13534796, 0.13250999, 0.13554132]),\n",
       " 'fit_time': (0.1508951187133789,\n",
       "  0.17190194129943848,\n",
       "  0.1459345817565918,\n",
       "  0.12193107604980469,\n",
       "  0.1219170093536377),\n",
       " 'test_time': (0.011992692947387695,\n",
       "  0.014991044998168945,\n",
       "  0.010989189147949219,\n",
       "  0.010993719100952148,\n",
       "  0.012007474899291992)}"
      ]
     },
     "execution_count": 5,
     "metadata": {},
     "output_type": "execute_result"
    }
   ],
   "source": [
    "from surprise import SVD\n",
    "from surprise import Dataset\n",
    "from surprise import Reader\n",
    "from surprise.model_selection import cross_validate\n",
    "\n",
    "reader=Reader(rating_scale=(.1,5))\n",
    "data=Dataset.load_from_df(ratings_data[['user_id','product_id','rating']],reader)\n",
    "algo=SVD()\n",
    "cross_validate(algo,data,measures=['RMSE','MAE'],cv=5,verbose=True)"
   ]
  },
  {
   "cell_type": "code",
   "execution_count": 6,
   "id": "3a304976",
   "metadata": {},
   "outputs": [],
   "source": [
    "from sklearn.feature_extraction.text import TfidfVectorizer\n",
    "from sklearn.metrics.pairwise import cosine_similarity\n",
    "\n",
    "tfidf = TfidfVectorizer(stop_words='english')\n",
    "\n",
    "tfidf_matrix=tfidf.fit_transform(ratings_data['about_product'])"
   ]
  },
  {
   "cell_type": "code",
   "execution_count": 7,
   "id": "09070562",
   "metadata": {},
   "outputs": [],
   "source": [
    "def get_cf_recommendations(user_id,n):\n",
    "    \n",
    "    user_products=ratings_data[ratings_data['user_id']==user_id]\n",
    "    \n",
    "    reader = Reader(rating_scale=(0.1,5))\n",
    "    \n",
    "    data=Dataset.load_from_df(user_products[['user_id','product_id','rating']],reader)\n",
    "    \n",
    "    algo=SVD()\n",
    "    trainset=data.build_full_trainset()\n",
    "    algo.fit(trainset)\n",
    "    \n",
    "    product_ids=ratings_data['product_id'].unique()\n",
    "    \n",
    "    for product_id in user_products['product_id']:\n",
    "        if product_id in product_ids:\n",
    "            product_ids.tolist().remove(product_id)\n",
    "    predictions = []\n",
    "    for product_id in product_ids:\n",
    "        predictions.append((product_id,algo.predict(user_id,product_id).est))\n",
    "    \n",
    "    top_n_predictions=sorted(predictions,key=lambda x: x[1],reverse=True)[:n]\n",
    "    top_n_product_ids=[x[0] for x in top_n_predictions]\n",
    "    top_n_products=ratings_data[ratings_data['product_id'].isin(top_n_product_ids)]\n",
    "    \n",
    "    return top_n_products[['product_name','category']]"
   ]
  },
  {
   "cell_type": "code",
   "execution_count": 8,
   "id": "b59c967a",
   "metadata": {},
   "outputs": [],
   "source": [
    "def get_cb_recommendations(user_id,n):\n",
    "    \n",
    "    user_products=ratings_data[ratings_data['user_id']==user_id]\n",
    "    \n",
    "    cosine_sim_matrix=cosine_similarity(tfidf_matrix,tfidf_matrix)\n",
    "    \n",
    "    recommended_products=[]\n",
    "    for product_id in user_products['product_id']:\n",
    "        product_index=ratings_data[ratings_data['product_id']==product_id].index[0]\n",
    "        product_scores=list(enumerate(cosine_sim_matrix[product_index]))\n",
    "        sorted_products=sorted(product_scores,key=lambda x: x[1],reverse=True)[1:n+1]\n",
    "        recommended_products+= sorted_products\n",
    "        \n",
    "    recommended_product_ids = [x[0] for x in recommended_products]\n",
    "    recommended_products_data=ratings_data[ratings_data['product_id'].isin(recommended_product_ids)]\n",
    "    top_n_products=recommended_products_data.groupby(['product_id','product_name','category'])['product_id'].count().reset_index(name='count').sort_values(['count'],ascending=False).head(n)\n",
    "    \n",
    "    return top_n_products[['product_name','category']]"
   ]
  },
  {
   "cell_type": "code",
   "execution_count": 9,
   "id": "7479fa34",
   "metadata": {},
   "outputs": [],
   "source": [
    "def get_hybrid_recommendations(user_id,n):\n",
    "    \n",
    "    cf_recommendations = get_cf_recommendations(user_id,n*2)\n",
    "    cb_recommendations = get_cb_recommendations(user_id,n*2)\n",
    "    \n",
    "    hybrid_recommendations=pd.concat([cf_recommendations,cb_recommendations]).groupby(['product_name','category'])['product_name'].count().reset_index(name='count').sort_values(['count'],ascending=False).head(n)\n",
    "    \n",
    "    return hybrid_recommendations[['product_name','category']]"
   ]
  },
  {
   "cell_type": "code",
   "execution_count": 10,
   "id": "b6cbd043",
   "metadata": {},
   "outputs": [
    {
     "data": {
      "text/html": [
       "<div>\n",
       "<style scoped>\n",
       "    .dataframe tbody tr th:only-of-type {\n",
       "        vertical-align: middle;\n",
       "    }\n",
       "\n",
       "    .dataframe tbody tr th {\n",
       "        vertical-align: top;\n",
       "    }\n",
       "\n",
       "    .dataframe thead th {\n",
       "        text-align: right;\n",
       "    }\n",
       "</style>\n",
       "<table border=\"1\" class=\"dataframe\">\n",
       "  <thead>\n",
       "    <tr style=\"text-align: right;\">\n",
       "      <th></th>\n",
       "      <th>product_name</th>\n",
       "      <th>category</th>\n",
       "    </tr>\n",
       "  </thead>\n",
       "  <tbody>\n",
       "    <tr>\n",
       "      <th>10</th>\n",
       "      <td>Portronics Konnect L 1.2M POR-1401 Fast Chargi...</td>\n",
       "      <td>Computers&amp;Accessories|Accessories&amp;Peripherals|...</td>\n",
       "    </tr>\n",
       "    <tr>\n",
       "      <th>8</th>\n",
       "      <td>Portronics Konnect CL 20W POR-1067 Type-C to 8...</td>\n",
       "      <td>Computers&amp;Accessories|Accessories&amp;Peripherals|...</td>\n",
       "    </tr>\n",
       "    <tr>\n",
       "      <th>16</th>\n",
       "      <td>boAt Micro USB 55 Tangle-free, Sturdy Micro US...</td>\n",
       "      <td>Computers&amp;Accessories|Accessories&amp;Peripherals|...</td>\n",
       "    </tr>\n",
       "    <tr>\n",
       "      <th>15</th>\n",
       "      <td>boAt Deuce USB 300 2 in 1 Type-C &amp; Micro USB S...</td>\n",
       "      <td>Computers&amp;Accessories|Accessories&amp;Peripherals|...</td>\n",
       "    </tr>\n",
       "    <tr>\n",
       "      <th>14</th>\n",
       "      <td>Wayona Nylon Braided USB to Lightning Fast Cha...</td>\n",
       "      <td>Computers&amp;Accessories|Accessories&amp;Peripherals|...</td>\n",
       "    </tr>\n",
       "    <tr>\n",
       "      <th>12</th>\n",
       "      <td>Sounce Fast Phone Charging Cable &amp; Data Sync U...</td>\n",
       "      <td>Computers&amp;Accessories|Accessories&amp;Peripherals|...</td>\n",
       "    </tr>\n",
       "    <tr>\n",
       "      <th>11</th>\n",
       "      <td>Portronics Konnect L POR-1081 Fast Charging 3A...</td>\n",
       "      <td>Computers&amp;Accessories|Accessories&amp;Peripherals|...</td>\n",
       "    </tr>\n",
       "    <tr>\n",
       "      <th>9</th>\n",
       "      <td>Portronics Konnect L 1.2M Fast Charging 3A 8 P...</td>\n",
       "      <td>Computers&amp;Accessories|Accessories&amp;Peripherals|...</td>\n",
       "    </tr>\n",
       "    <tr>\n",
       "      <th>19</th>\n",
       "      <td>pTron Solero TB301 3A Type-C Data and Fast Cha...</td>\n",
       "      <td>Computers&amp;Accessories|Accessories&amp;Peripherals|...</td>\n",
       "    </tr>\n",
       "    <tr>\n",
       "      <th>7</th>\n",
       "      <td>MI Usb Type-C Cable Smartphone (Black)</td>\n",
       "      <td>Computers&amp;Accessories|Accessories&amp;Peripherals|...</td>\n",
       "    </tr>\n",
       "  </tbody>\n",
       "</table>\n",
       "</div>"
      ],
      "text/plain": [
       "                                         product_name  \\\n",
       "10  Portronics Konnect L 1.2M POR-1401 Fast Chargi...   \n",
       "8   Portronics Konnect CL 20W POR-1067 Type-C to 8...   \n",
       "16  boAt Micro USB 55 Tangle-free, Sturdy Micro US...   \n",
       "15  boAt Deuce USB 300 2 in 1 Type-C & Micro USB S...   \n",
       "14  Wayona Nylon Braided USB to Lightning Fast Cha...   \n",
       "12  Sounce Fast Phone Charging Cable & Data Sync U...   \n",
       "11  Portronics Konnect L POR-1081 Fast Charging 3A...   \n",
       "9   Portronics Konnect L 1.2M Fast Charging 3A 8 P...   \n",
       "19  pTron Solero TB301 3A Type-C Data and Fast Cha...   \n",
       "7              MI Usb Type-C Cable Smartphone (Black)   \n",
       "\n",
       "                                             category  \n",
       "10  Computers&Accessories|Accessories&Peripherals|...  \n",
       "8   Computers&Accessories|Accessories&Peripherals|...  \n",
       "16  Computers&Accessories|Accessories&Peripherals|...  \n",
       "15  Computers&Accessories|Accessories&Peripherals|...  \n",
       "14  Computers&Accessories|Accessories&Peripherals|...  \n",
       "12  Computers&Accessories|Accessories&Peripherals|...  \n",
       "11  Computers&Accessories|Accessories&Peripherals|...  \n",
       "9   Computers&Accessories|Accessories&Peripherals|...  \n",
       "19  Computers&Accessories|Accessories&Peripherals|...  \n",
       "7   Computers&Accessories|Accessories&Peripherals|...  "
      ]
     },
     "execution_count": 10,
     "metadata": {},
     "output_type": "execute_result"
    }
   ],
   "source": [
    "get_hybrid_recommendations(ratings_data['user_id'][10],10)"
   ]
  },
  {
   "cell_type": "code",
   "execution_count": null,
   "id": "3a3d71b6",
   "metadata": {},
   "outputs": [],
   "source": []
  },
  {
   "cell_type": "code",
   "execution_count": null,
   "id": "f6a6d7b8",
   "metadata": {},
   "outputs": [],
   "source": []
  }
 ],
 "metadata": {
  "kernelspec": {
   "display_name": "Python 3 (ipykernel)",
   "language": "python",
   "name": "python3"
  },
  "language_info": {
   "codemirror_mode": {
    "name": "ipython",
    "version": 3
   },
   "file_extension": ".py",
   "mimetype": "text/x-python",
   "name": "python",
   "nbconvert_exporter": "python",
   "pygments_lexer": "ipython3",
   "version": "3.9.7"
  }
 },
 "nbformat": 4,
 "nbformat_minor": 5
}
